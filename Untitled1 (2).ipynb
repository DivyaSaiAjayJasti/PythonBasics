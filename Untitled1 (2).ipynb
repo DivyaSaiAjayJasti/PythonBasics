{
  "nbformat": 4,
  "nbformat_minor": 0,
  "metadata": {
    "colab": {
      "provenance": [],
      "collapsed_sections": []
    },
    "kernelspec": {
      "name": "python3",
      "display_name": "Python 3"
    },
    "language_info": {
      "name": "python"
    }
  },
  "cells": [
    {
      "cell_type": "markdown",
      "source": [
        "ML Assignment-1\n",
        "Divya Sai Ajay jasti\n",
        "700741296"
      ],
      "metadata": {
        "id": "nkwrNnU3KTiJ"
      }
    },
    {
      "cell_type": "code",
      "execution_count": 1,
      "metadata": {
        "colab": {
          "base_uri": "https://localhost:8080/"
        },
        "id": "50tcYQK0HISZ",
        "outputId": "3a82572c-0ba6-461b-d939-edfc56d54971"
      },
      "outputs": [
        {
          "output_type": "stream",
          "name": "stdout",
          "text": [
            " 1.1) min_age =  19  max_age = 26\n"
          ]
        }
      ],
      "source": [
        "ages = [19,22,19,24,20,25,26,24,25,24]\n",
        "\n",
        "#1.1 Sort the list and find the min and max age\n",
        "ages.sort() #soring the ages\n",
        "min_age = min(ages) #minimum age would be the first element in sorted ages\n",
        "max_age = max(ages) #maximum age would be the last element in sorted ages\n",
        "print(\" 1.1) min_age = \" , min_age , \" max_age =\" , max_age)\n"
      ]
    },
    {
      "cell_type": "code",
      "source": [
        "#1.2 Add the min age and the max age again to the list\n",
        "ages.append(min_age) #adding min_age\n",
        "ages.append(max_age) #adding max_age\n",
        "print(\" 1.2) ages = \", ages)"
      ],
      "metadata": {
        "colab": {
          "base_uri": "https://localhost:8080/"
        },
        "id": "j_Ty3ANRHP4k",
        "outputId": "d8a5bc35-9f24-4729-a157-ffcc3fadd5ed"
      },
      "execution_count": 2,
      "outputs": [
        {
          "output_type": "stream",
          "name": "stdout",
          "text": [
            " 1.2) ages =  [19, 19, 20, 22, 24, 24, 24, 25, 25, 26, 19, 26]\n"
          ]
        }
      ]
    },
    {
      "cell_type": "code",
      "source": [
        "#1.3 Find the median age (one middle item or two middle items divided by two)\n",
        "mid_value = len(ages) // 2 #finding the length for list and dividing by 2\n",
        "median = (ages[mid_value] + ages[~mid_value]) / 2 # using negative in list to count items from the end and get average\n",
        "print(\" 1.3) median age = \", median)"
      ],
      "metadata": {
        "colab": {
          "base_uri": "https://localhost:8080/"
        },
        "id": "L3ByEN_IImiV",
        "outputId": "659ddb56-3ab6-4e87-f9fa-8ecebff1024e"
      },
      "execution_count": 3,
      "outputs": [
        {
          "output_type": "stream",
          "name": "stdout",
          "text": [
            " 1.3) median age =  24.0\n"
          ]
        }
      ]
    },
    {
      "cell_type": "code",
      "source": [
        "#1.4 Find the average age (sum of all items divided by their number)\n",
        "sum = 0 #assingning value 0 to varible named sum\n",
        "length = len(ages)\n",
        "for i in ages: #running for loop for list\n",
        "    sum = sum + i # adding every element to sum and storing the value in sum\n",
        "print(\" 1.4) sum = \", sum/length)"
      ],
      "metadata": {
        "colab": {
          "base_uri": "https://localhost:8080/"
        },
        "id": "F2QO_am9ImtO",
        "outputId": "941cdbe9-710c-4614-c371-7f3085d16e11"
      },
      "execution_count": 9,
      "outputs": [
        {
          "output_type": "stream",
          "name": "stdout",
          "text": [
            " 1.4) sum =  22.75\n"
          ]
        }
      ]
    },
    {
      "cell_type": "code",
      "source": [
        "#1.5 Find the range of the ages (max minus min)\n",
        "ages.sort() #soring the ages\n",
        "min_age = min(ages) #minimum age would be the first element in sorted ages\n",
        "max_age = max(ages) #maximum age would be the last element in sorted ages\n",
        "range_ages = max_age - min_age #max age minus min age gives range\n",
        "print(\" 1.5) range_ages = \", range_ages)"
      ],
      "metadata": {
        "colab": {
          "base_uri": "https://localhost:8080/"
        },
        "id": "jk8RFVhnImzh",
        "outputId": "d27218eb-9f2f-4846-a95c-bf9fbb23e8a3"
      },
      "execution_count": 5,
      "outputs": [
        {
          "output_type": "stream",
          "name": "stdout",
          "text": [
            " 1.5) range_ages =  7\n"
          ]
        }
      ]
    },
    {
      "cell_type": "code",
      "source": [
        "#2.1 Create an empty dictionary called dog\n",
        "dog = {} #empty dictionary\n",
        "print(\" 2.1) dog = \", dog)"
      ],
      "metadata": {
        "colab": {
          "base_uri": "https://localhost:8080/"
        },
        "id": "aTefLiEPIm2d",
        "outputId": "76b37938-e68d-4530-c7c7-e24cb629f670"
      },
      "execution_count": 6,
      "outputs": [
        {
          "output_type": "stream",
          "name": "stdout",
          "text": [
            " 2.1) dog =  {}\n"
          ]
        }
      ]
    },
    {
      "cell_type": "code",
      "source": [
        "#2.2 Add name, color, breed, legs, age to the dog dictionary\n",
        "dog = {'name' : 'sweety', 'breed' : 'golden retriver', 'legs' : 4, 'age' : 3} #adding keys and values to dictionary\n",
        "print(\" 2.2) dog = \", dog)"
      ],
      "metadata": {
        "colab": {
          "base_uri": "https://localhost:8080/"
        },
        "id": "IpSNZJdWIm5v",
        "outputId": "70733e6a-11f7-41b6-d5be-bc9310af3ec2"
      },
      "execution_count": 7,
      "outputs": [
        {
          "output_type": "stream",
          "name": "stdout",
          "text": [
            " 2.2) dog =  {'name': 'sweety', 'breed': 'golden retriver', 'legs': 4, 'age': 3}\n"
          ]
        }
      ]
    },
    {
      "cell_type": "code",
      "source": [
        "#2.3 Create a student dictionary and add first_name, last_name, gender, age, \n",
        "#marital status,skills, country, city and address as keys for the dictionary\n",
        "student = {\n",
        "    'first_name':'divya sai ajay',\n",
        "    'last_name':'jasti',\n",
        "    'gender':'male',\n",
        "    'age': 21,\n",
        "    'country':'India',\n",
        "    'skills':['Python','machine learning'],\n",
        "    'maritial status':False,\n",
        "    'city':'hyderabad',\n",
        "    'address':{\n",
        "        'door no.' : 7-4-221,\n",
        "        'area':'balanagar',\n",
        "        'zipcode':'500011'\n",
        "    }\n",
        "    }\n",
        "print(\" 2.3) student = \", student)"
      ],
      "metadata": {
        "colab": {
          "base_uri": "https://localhost:8080/"
        },
        "id": "VeEjMCE7Im8p",
        "outputId": "1ffb8d87-bf7e-4776-e647-58b4dc16c07e"
      },
      "execution_count": 73,
      "outputs": [
        {
          "output_type": "stream",
          "name": "stdout",
          "text": [
            " 2.3) student =  {'first_name': 'divya sai ajay', 'last_name': 'jasti', 'gender': 'male', 'age': 21, 'country': 'India', 'skills': ['Python', 'machine learning'], 'maritial status': False, 'city': 'hyderabad', 'address': {'door no.': -218, 'area': 'balanagar', 'zipcode': '500011'}}\n"
          ]
        }
      ]
    },
    {
      "cell_type": "code",
      "source": [
        "#2.4 Get the length of the student dictionary\n",
        "dict_length = len(student) #getting length using len command\n",
        "print(\" 2.4) dict_length = \", dict_length)"
      ],
      "metadata": {
        "colab": {
          "base_uri": "https://localhost:8080/"
        },
        "id": "hO6UBSjFIm_g",
        "outputId": "936b63ed-53fb-4b2a-adeb-8ecf1523d119"
      },
      "execution_count": 10,
      "outputs": [
        {
          "output_type": "stream",
          "name": "stdout",
          "text": [
            " 2.4) dict_length =  9\n"
          ]
        }
      ]
    },
    {
      "cell_type": "code",
      "source": [
        "#2.5 Get the value of skills and check the data type, it should be a list\n",
        "value_skills = student['skills'] #assigning student skills to value skills\n",
        "print(\" 2.5) value_skills = \", value_skills, type(value_skills))"
      ],
      "metadata": {
        "colab": {
          "base_uri": "https://localhost:8080/"
        },
        "id": "rIsAgu7BInCI",
        "outputId": "77963f53-0aa4-4c90-a833-6c4ecf2e5e45"
      },
      "execution_count": 11,
      "outputs": [
        {
          "output_type": "stream",
          "name": "stdout",
          "text": [
            " 2.5) value_skills =  ['Python', 'machine learning'] <class 'list'>\n"
          ]
        }
      ]
    },
    {
      "cell_type": "code",
      "source": [
        "#2.6 Modify the skills values by adding one or two skills\n",
        "student['skills'].append('java')\n",
        "print(\" 2.6) student = \", student['skills'])"
      ],
      "metadata": {
        "colab": {
          "base_uri": "https://localhost:8080/"
        },
        "id": "StSQyrmhInFB",
        "outputId": "1adf135e-db40-4b89-e58f-f6b3d4814da4"
      },
      "execution_count": 12,
      "outputs": [
        {
          "output_type": "stream",
          "name": "stdout",
          "text": [
            " 2.6) student =  ['Python', 'machine learning', 'java']\n"
          ]
        }
      ]
    },
    {
      "cell_type": "code",
      "source": [
        "#2.7 Get the dictionary keys as a list\n",
        "keys = student.keys()\n",
        "print(\" 2.7) keys = \", keys)"
      ],
      "metadata": {
        "colab": {
          "base_uri": "https://localhost:8080/"
        },
        "id": "nkDPjc5mInIC",
        "outputId": "14a749f8-5b0e-4813-f013-aaca7969a402"
      },
      "execution_count": 13,
      "outputs": [
        {
          "output_type": "stream",
          "name": "stdout",
          "text": [
            " 2.7) keys =  dict_keys(['first_name', 'last_name', 'gender', 'age', 'country', 'skills', 'maritial status', 'city', 'address'])\n"
          ]
        }
      ]
    },
    {
      "cell_type": "code",
      "source": [
        "#2.8 Get the dictionary values as a list\n",
        "values = student.values()\n",
        "print(\" 2.8) values = \", values)"
      ],
      "metadata": {
        "colab": {
          "base_uri": "https://localhost:8080/"
        },
        "id": "lesyi5wRInLK",
        "outputId": "b9007f14-60d7-4fe7-b3cf-b51c779425b1"
      },
      "execution_count": 14,
      "outputs": [
        {
          "output_type": "stream",
          "name": "stdout",
          "text": [
            " 2.8) values =  dict_values(['divya sai ajay', 'jasti', 'male', 21, 'India', ['Python', 'machine learning', 'java'], False, 'hyderabad', {'door no.': -218, 'area': 'balanagar', 'zipcode': '500011'}])\n"
          ]
        }
      ]
    },
    {
      "cell_type": "code",
      "source": [
        "#3.1 Create a tuple containing names of your sisters and your brothers\n",
        "sisters = ('siri', 'srilekha' , 'supraja')\n",
        "brothers = ('varun','goutham','siddu')\n",
        "print(\" 3.1) sisters = \", sisters, \", brothers = \", brothers)"
      ],
      "metadata": {
        "colab": {
          "base_uri": "https://localhost:8080/"
        },
        "id": "0GmBjelGInOI",
        "outputId": "93fd8db3-2ff4-45ea-e922-c7aa40fd1172"
      },
      "execution_count": 74,
      "outputs": [
        {
          "output_type": "stream",
          "name": "stdout",
          "text": [
            " 3.1) sisters =  ('siri', 'srilekha', 'supraja') , brothers =  ('varun', 'goutham', 'siddu')\n"
          ]
        }
      ]
    },
    {
      "cell_type": "code",
      "source": [
        "#3.2 Join brothers and sisters tuples and assign it to siblings\n",
        "siblings = sisters + brothers\n",
        "print(\" 3.2) siblings = \", siblings)"
      ],
      "metadata": {
        "colab": {
          "base_uri": "https://localhost:8080/"
        },
        "id": "KTGMUsELInQ_",
        "outputId": "3ad047f0-d57f-48e7-a237-bec8e9abe511"
      },
      "execution_count": 75,
      "outputs": [
        {
          "output_type": "stream",
          "name": "stdout",
          "text": [
            " 3.2) siblings =  ('siri', 'srilekha', 'supraja', 'varun', 'goutham', 'siddu')\n"
          ]
        }
      ]
    },
    {
      "cell_type": "code",
      "source": [
        "#3.3 How many siblings do you have?\n",
        "siblings_count = len(siblings)\n",
        "print(\" 3.3) siblings_count = \", siblings_count)"
      ],
      "metadata": {
        "colab": {
          "base_uri": "https://localhost:8080/"
        },
        "id": "QHoRDfibInUA",
        "outputId": "ac16a90e-9590-44d0-eb92-3a396c0c3b42"
      },
      "execution_count": 76,
      "outputs": [
        {
          "output_type": "stream",
          "name": "stdout",
          "text": [
            " 3.3) siblings_count =  6\n"
          ]
        }
      ]
    },
    {
      "cell_type": "code",
      "source": [
        "#3.4 Modify the siblings tuple and add the name of your father and mother and \n",
        "# assign it to family_members\n",
        "siblings = list(siblings) #converting tuple to list to Modify\n",
        "siblings.append(\"ramesh\") #adding father name\n",
        "siblings.append(\"kavitha\") #adding mother name\n",
        "family_members = tuple(siblings) #coverting list into tuple again and assingning\n",
        "print(\" 3.4) family_members = \", family_members)"
      ],
      "metadata": {
        "colab": {
          "base_uri": "https://localhost:8080/"
        },
        "id": "QgkQm8bCInW7",
        "outputId": "620c1789-73d9-4420-ae69-af2c6e545d9b"
      },
      "execution_count": 77,
      "outputs": [
        {
          "output_type": "stream",
          "name": "stdout",
          "text": [
            " 3.4) family_members =  ('siri', 'srilekha', 'supraja', 'varun', 'goutham', 'siddu', 'ramesh', 'kavitha')\n"
          ]
        }
      ]
    },
    {
      "cell_type": "code",
      "source": [
        "#4\n",
        "it_companies = {'Facebook', 'Google', 'Microsoft', 'Apple', 'IBM', 'Oracle', 'Amazon'}\n",
        "A = {19, 22, 24, 20, 25, 26}\n",
        "B = {19, 22, 20, 25, 26, 24, 28, 27}\n",
        "age = [22, 19, 24, 25, 26, 24, 25, 24]"
      ],
      "metadata": {
        "id": "RHFy_LuKInZz"
      },
      "execution_count": 82,
      "outputs": []
    },
    {
      "cell_type": "code",
      "source": [
        "#4.1 Find the length of the set it_companies\n",
        "print(\" 4.1) length = \", len(it_companies))"
      ],
      "metadata": {
        "colab": {
          "base_uri": "https://localhost:8080/"
        },
        "id": "CzEb7SlqIncr",
        "outputId": "5552c2be-2d9f-4fc6-a7d0-b26fe9dc782f"
      },
      "execution_count": 78,
      "outputs": [
        {
          "output_type": "stream",
          "name": "stdout",
          "text": [
            " 4.1) length =  11\n"
          ]
        }
      ]
    },
    {
      "cell_type": "code",
      "source": [
        "#4.2 Add 'Twitter' to it_companies\n",
        "it_companies.add('twitter')\n",
        "print(\" 4.2) it_companies = \", it_companies)"
      ],
      "metadata": {
        "colab": {
          "base_uri": "https://localhost:8080/"
        },
        "id": "2gIJHViwInfi",
        "outputId": "6b509717-da22-45f7-d2b1-2e6d7fc6c1aa"
      },
      "execution_count": 79,
      "outputs": [
        {
          "output_type": "stream",
          "name": "stdout",
          "text": [
            " 4.2) it_companies =  {'Google', 'Facebook', 'cvs', 'Oracle', 'mondo', 'IBM', 'twitter', 'Microsoft', 'infotech', 'cyient', 'Amazon'}\n"
          ]
        }
      ]
    },
    {
      "cell_type": "code",
      "source": [
        "#4.3 Insert multiple IT companies at once to the set it_companies\n",
        "s = {'cvs','mondo','infotech','cyient'}\n",
        "it_companies.update(s)\n",
        "print(\" 4.3) it_companies = \", it_companies)"
      ],
      "metadata": {
        "colab": {
          "base_uri": "https://localhost:8080/"
        },
        "id": "pf696fm6Inim",
        "outputId": "93865e27-38ec-43f5-f9dc-05862e5e3989"
      },
      "execution_count": 85,
      "outputs": [
        {
          "output_type": "stream",
          "name": "stdout",
          "text": [
            " 4.3) it_companies =  {'Google', 'Facebook', 'cvs', 'Oracle', 'mondo', 'IBM', 'Microsoft', 'infotech', 'cyient', 'Amazon'}\n"
          ]
        }
      ]
    },
    {
      "cell_type": "code",
      "source": [
        "#4.4 Remove one of the companies from the set it_companies\n",
        "it_companies.remove('Apple')\n",
        "print(\" 4.4) it_companies = \", it_companies)"
      ],
      "metadata": {
        "colab": {
          "base_uri": "https://localhost:8080/"
        },
        "id": "eA4ktZTzInlM",
        "outputId": "baa4685e-a456-49f2-8e67-b48e027ed0bf"
      },
      "execution_count": 83,
      "outputs": [
        {
          "output_type": "stream",
          "name": "stdout",
          "text": [
            " 4.4) it_companies =  {'Google', 'Facebook', 'Oracle', 'IBM', 'Microsoft', 'Amazon'}\n"
          ]
        }
      ]
    },
    {
      "cell_type": "code",
      "source": [
        "#4.5 What is the difference between remove and discard\n",
        "print(\" 4.5) discard keyword does'nt give error even if the entered element does'nt exist in the list, but remove keyword give error in that case.\")  "
      ],
      "metadata": {
        "colab": {
          "base_uri": "https://localhost:8080/"
        },
        "id": "4hS_O8juInom",
        "outputId": "befed103-c730-46eb-e600-960265ecae35"
      },
      "execution_count": 86,
      "outputs": [
        {
          "output_type": "stream",
          "name": "stdout",
          "text": [
            " 4.5) discard keyword does'nt give error even if the entered element does'nt exist in the list, but remove keyword give error in that case.\n"
          ]
        }
      ]
    },
    {
      "cell_type": "code",
      "source": [
        "#4.6 Join A and B\n",
        "print(\" 4.6) A Union B        = \", A.union(B))"
      ],
      "metadata": {
        "colab": {
          "base_uri": "https://localhost:8080/"
        },
        "id": "74ZHjJeGMzW-",
        "outputId": "1a9298c9-7db8-4b2d-aa92-3d5e7fe236d5"
      },
      "execution_count": 87,
      "outputs": [
        {
          "output_type": "stream",
          "name": "stdout",
          "text": [
            " 4.6) A Union B        =  {19, 20, 22, 24, 25, 26, 27, 28}\n"
          ]
        }
      ]
    },
    {
      "cell_type": "code",
      "source": [
        "#4.7 Find A intersection B\n",
        "print(\" 4.7) A intersection B = \", A.intersection(B))"
      ],
      "metadata": {
        "colab": {
          "base_uri": "https://localhost:8080/"
        },
        "id": "S8VcqgzJMzf1",
        "outputId": "3e71ece1-37f8-4c77-8bfa-8e4b72c7df69"
      },
      "execution_count": 88,
      "outputs": [
        {
          "output_type": "stream",
          "name": "stdout",
          "text": [
            " 4.7) A intersection B =  {19, 20, 22, 24, 25, 26}\n"
          ]
        }
      ]
    },
    {
      "cell_type": "code",
      "source": [
        "#4.8 Is A subset of B\n",
        "print(\" 4.8) Is A subset of B ? \", A.issubset(B))"
      ],
      "metadata": {
        "colab": {
          "base_uri": "https://localhost:8080/"
        },
        "id": "1Tocatr5OF3i",
        "outputId": "8513169f-d4a1-4572-f6f6-6ef48429400d"
      },
      "execution_count": 89,
      "outputs": [
        {
          "output_type": "stream",
          "name": "stdout",
          "text": [
            " 4.8) Is A subset of B ?  True\n"
          ]
        }
      ]
    },
    {
      "cell_type": "code",
      "source": [
        "#4.9 Are A and B disjoint sets\n",
        "print(\" 4.9) A and B disjoint ? \", A.isdisjoint(B))"
      ],
      "metadata": {
        "colab": {
          "base_uri": "https://localhost:8080/"
        },
        "id": "g-QGUin4Mzl9",
        "outputId": "87a2c4ec-13ba-4c8c-db2a-5fde040377ab"
      },
      "execution_count": 90,
      "outputs": [
        {
          "output_type": "stream",
          "name": "stdout",
          "text": [
            " 4.9) A and B disjoint ?  False\n"
          ]
        }
      ]
    },
    {
      "cell_type": "code",
      "source": [
        "#4.10 Join A with B and B with A\n",
        "print(\" 4.10) A U B = \", A.union(B), \", B U A = \", B.union(A) )"
      ],
      "metadata": {
        "colab": {
          "base_uri": "https://localhost:8080/"
        },
        "id": "_HqdVT-JMzo7",
        "outputId": "23a47b00-f283-45f1-ae18-4a53e7e1162a"
      },
      "execution_count": 91,
      "outputs": [
        {
          "output_type": "stream",
          "name": "stdout",
          "text": [
            " 4.10) A U B =  {19, 20, 22, 24, 25, 26, 27, 28} , B U A =  {19, 20, 22, 24, 25, 26, 27, 28}\n"
          ]
        }
      ]
    },
    {
      "cell_type": "code",
      "source": [
        "#4.11 What is the symmetric difference between A and B\n",
        "print(\" 4.11) A symmetric difference B = \", A.symmetric_difference(B))"
      ],
      "metadata": {
        "colab": {
          "base_uri": "https://localhost:8080/"
        },
        "id": "tW5FK7MZMzrw",
        "outputId": "0e227078-5829-4a19-a71d-f2c05a5f117f"
      },
      "execution_count": 92,
      "outputs": [
        {
          "output_type": "stream",
          "name": "stdout",
          "text": [
            " 4.11) A symmetric difference B =  {27, 28}\n"
          ]
        }
      ]
    },
    {
      "cell_type": "code",
      "source": [
        "#4.12 Delete the sets completely\n",
        "del A\n",
        "del B\n",
        "print( \" 4.12) A = \", A, \", B = \", B)"
      ],
      "metadata": {
        "colab": {
          "base_uri": "https://localhost:8080/",
          "height": 201
        },
        "id": "XjuvHpZEMzuu",
        "outputId": "060a02cc-e2b5-45a3-f704-b6bfb47f4201"
      },
      "execution_count": 93,
      "outputs": [
        {
          "output_type": "error",
          "ename": "NameError",
          "evalue": "ignored",
          "traceback": [
            "\u001b[0;31m---------------------------------------------------------------------------\u001b[0m",
            "\u001b[0;31mNameError\u001b[0m                                 Traceback (most recent call last)",
            "\u001b[0;32m<ipython-input-93-d260e67fb120>\u001b[0m in \u001b[0;36m<module>\u001b[0;34m\u001b[0m\n\u001b[1;32m      2\u001b[0m \u001b[0;32mdel\u001b[0m \u001b[0mA\u001b[0m\u001b[0;34m\u001b[0m\u001b[0;34m\u001b[0m\u001b[0m\n\u001b[1;32m      3\u001b[0m \u001b[0;32mdel\u001b[0m \u001b[0mB\u001b[0m\u001b[0;34m\u001b[0m\u001b[0;34m\u001b[0m\u001b[0m\n\u001b[0;32m----> 4\u001b[0;31m \u001b[0mprint\u001b[0m\u001b[0;34m(\u001b[0m \u001b[0;34m\" 4.12) A = \"\u001b[0m\u001b[0;34m,\u001b[0m \u001b[0mA\u001b[0m\u001b[0;34m,\u001b[0m \u001b[0;34m\", B = \"\u001b[0m\u001b[0;34m,\u001b[0m \u001b[0mB\u001b[0m\u001b[0;34m)\u001b[0m\u001b[0;34m\u001b[0m\u001b[0;34m\u001b[0m\u001b[0m\n\u001b[0m",
            "\u001b[0;31mNameError\u001b[0m: name 'A' is not defined"
          ]
        }
      ]
    },
    {
      "cell_type": "code",
      "source": [
        "#4.13 Convert the ages to a set and compare the length of the list and the set.\n",
        "list_length = len(age)\n",
        "age = set(age)\n",
        "set_length = len(age)\n",
        "print(\" 4.13) list_length = \", list_length, \", set_length = \", set_length)"
      ],
      "metadata": {
        "colab": {
          "base_uri": "https://localhost:8080/"
        },
        "id": "PPPmEIzjMzx0",
        "outputId": "abcb72a5-66ca-42ad-c658-02d32651d01f"
      },
      "execution_count": 32,
      "outputs": [
        {
          "output_type": "stream",
          "name": "stdout",
          "text": [
            " 4.13) list_length =  8 , set_length =  5\n"
          ]
        }
      ]
    },
    {
      "cell_type": "code",
      "source": [
        "#5.1 Calculate the area of a circle and assign the value to a variable name of _area_of_circle_\n",
        "radius = 30\n",
        "pi = 3.141592653589793238\n",
        "_area_of_circle_ = pi*radius*radius\n",
        "print(\" 5.1) area of circle = \", _area_of_circle_)"
      ],
      "metadata": {
        "colab": {
          "base_uri": "https://localhost:8080/"
        },
        "id": "RlFAbic6Mz1Z",
        "outputId": "1a470f77-d4cf-407a-e420-25fdc2981554"
      },
      "execution_count": 94,
      "outputs": [
        {
          "output_type": "stream",
          "name": "stdout",
          "text": [
            " 5.1) area of circle =  2827.4333882308138\n"
          ]
        }
      ]
    },
    {
      "cell_type": "code",
      "source": [
        "#5.2 Calculate the circumference of a circle and assign the value to a variable name of\n",
        "#_circum_of_circle_\n",
        "_circum_of_circle_ = 2*pi*radius\n",
        "print(\" 5.2) _circum_of_circle_ = \", _circum_of_circle_)"
      ],
      "metadata": {
        "colab": {
          "base_uri": "https://localhost:8080/"
        },
        "id": "YFxNWD51OKSK",
        "outputId": "30c61971-4762-4f3c-b79b-5136ad346d5e"
      },
      "execution_count": 95,
      "outputs": [
        {
          "output_type": "stream",
          "name": "stdout",
          "text": [
            " 5.2) _circum_of_circle_ =  188.49555921538757\n"
          ]
        }
      ]
    },
    {
      "cell_type": "code",
      "source": [
        "#5.3 Take radius as user input and calculate the area\n",
        "r = int(input(\"enter radius: \"))\n",
        "print(\" 5.3) area = \", pi*r*r)"
      ],
      "metadata": {
        "colab": {
          "base_uri": "https://localhost:8080/"
        },
        "id": "JLUqEIG5OKcR",
        "outputId": "282e1a46-8620-42b7-a172-bbfcf9479db3"
      },
      "execution_count": 36,
      "outputs": [
        {
          "output_type": "stream",
          "name": "stdout",
          "text": [
            "enter radius: 10\n",
            " 5.3) area =  314.1592653589793\n"
          ]
        }
      ]
    },
    {
      "cell_type": "code",
      "source": [
        "#6 How many unique words have been used in the sentence? Use the split methods and set\n",
        "#to get the unique words.\n",
        "sentence = \"I am a teacher and I love to inspire and teach people\" #given sentence\n",
        "ans = set(sentence.split(\" \")) #splitting the given sentence where there is a space and adding them to set(sets does not have duplicate values so every value is unique).\n",
        "print(\" 6) unique words = \", len(ans))"
      ],
      "metadata": {
        "colab": {
          "base_uri": "https://localhost:8080/"
        },
        "id": "ItmH51o1OKeo",
        "outputId": "c8188c03-ddec-43be-ace5-dfbd9635e9d1"
      },
      "execution_count": 96,
      "outputs": [
        {
          "output_type": "stream",
          "name": "stdout",
          "text": [
            " 6) unique words =  10\n"
          ]
        }
      ]
    },
    {
      "cell_type": "code",
      "source": [
        "#7 Use a tab escape sequence\n",
        "print(\"Name\\tAge\\tCountry\\tCity\\nAsabench\\t250\\tFinland\\tHelsinki\")"
      ],
      "metadata": {
        "colab": {
          "base_uri": "https://localhost:8080/"
        },
        "id": "SjMVmkI5OKhQ",
        "outputId": "9d99a0c6-5843-49d5-d954-85b43eff3c9f"
      },
      "execution_count": 67,
      "outputs": [
        {
          "output_type": "stream",
          "name": "stdout",
          "text": [
            "Name\tAge\tCountry\tCity\n",
            "Asabench\t250\tFinland\tHelsinki\n"
          ]
        }
      ]
    },
    {
      "cell_type": "code",
      "source": [
        "#8 Use the string formatting method to display\n",
        "radius = 10\n",
        "area = 3.14*radius**2\n",
        "print(\"radius = {radius}\".format(radius = 10))\n",
        "print(\"area = {pi}*radius**2\".format(pi = 3.14))\n",
        "\n",
        "#using string formatting method(format) to insert numerical values between string\n",
        "\n",
        "answer=\"The area of the circle with radius {0} is {1} meters square\".format(radius,area)\n",
        "print(answer)"
      ],
      "metadata": {
        "colab": {
          "base_uri": "https://localhost:8080/"
        },
        "id": "T6rv4lkWOKj_",
        "outputId": "4e8e00e6-fcb0-41d2-ed68-22aaf054b1ad"
      },
      "execution_count": 63,
      "outputs": [
        {
          "output_type": "stream",
          "name": "stdout",
          "text": [
            "radius = 10\n",
            "area = 3.14*radius**2\n",
            "The area of the circle with radius 10 is 314.0 meters square\n"
          ]
        }
      ]
    },
    {
      "cell_type": "code",
      "source": [
        "#9 Write a program, which reads weights (lbs.) of N students into a list and convert these weights to\n",
        "#kilograms in a separate list using Loop. N: No of students (Read input from user)\n",
        "\n",
        "n = int(input(\" Enter no. of students: \"))\n",
        "weights_lbs = [] #empty list\n",
        "weights_kg = [] #empty lilst\n",
        "lbs = 0.453592\n",
        "for i in range(n): #using for loop\n",
        "    w = int(input(\" Enter weight in lbs: \")) #taking input\n",
        "    weights_lbs.append(w) #adding input weights to list \n",
        "for i in weights_lbs: # for every value in list\n",
        "    j = i*lbs #multiplying every value in list with lbs to convert it into kg\n",
        "    weights_kg.append(j) # adding new values to empty list\n",
        "print(weights_kg)\n"
      ],
      "metadata": {
        "colab": {
          "base_uri": "https://localhost:8080/"
        },
        "id": "i67Ply2dOKm5",
        "outputId": "1e2ddf60-23ff-499b-f9dc-ec8e947b83fe"
      },
      "execution_count": 70,
      "outputs": [
        {
          "output_type": "stream",
          "name": "stdout",
          "text": [
            " Enter no. of students: 4\n",
            " Enter weight in lbs: 150\n",
            " Enter weight in lbs: 155\n",
            " Enter weight in lbs: 145\n",
            " Enter weight in lbs: 148\n",
            "[68.0388, 70.30676, 65.77083999999999, 67.131616]\n"
          ]
        }
      ]
    },
    {
      "cell_type": "code",
      "source": [
        "import numpy as np\n",
        "from sklearn.model_selection import train_test_split #train_test_split to split the data\n",
        "from sklearn.neighbors import KNeighborsClassifier #this library is to implement kNN\n",
        "#Given\n",
        "x = np.array([[1,0], [2,0], [3,0], [6,0], [6,0], [7,0], [10, 0], [11,0]]) \n",
        "#classes as per given question\n",
        "y = np.array([0,0,1,1,1,0,0,0])\n",
        "\n",
        "#Here, we are splitting data into two. One is for training and another is for testing \n",
        "#As per the question the test and train data is splitted equally. So the test size will be 0.5\n",
        "x_train, x_test, y_train, y_test = train_test_split(x,y, test_size = 0.5, random_state= 42, shuffle = False)\n",
        "\n",
        "#printing the values\n",
        "print(x_train) \n",
        "print(y_train)\n",
        "\n",
        "#given to implement KNN with k=3\n",
        "neighbor = KNeighborsClassifier(n_neighbors = 3)  \n",
        "neighbor.fit(x_train,y_train) #fit the KNN\n",
        "y_pred = neighbor.predict(x_test) #predict the output\n",
        "y_pred #get the result"
      ],
      "metadata": {
        "colab": {
          "base_uri": "https://localhost:8080/"
        },
        "id": "OakpOb6e9heK",
        "outputId": "e2273640-4925-4f2d-e3a0-ac8efa4e4de3"
      },
      "execution_count": 2,
      "outputs": [
        {
          "output_type": "stream",
          "name": "stdout",
          "text": [
            "[[1 0]\n",
            " [2 0]\n",
            " [3 0]\n",
            " [6 0]]\n",
            "[0 0 1 1]\n"
          ]
        },
        {
          "output_type": "execute_result",
          "data": {
            "text/plain": [
              "array([1, 1, 1, 1])"
            ]
          },
          "metadata": {},
          "execution_count": 2
        }
      ]
    },
    {
      "cell_type": "code",
      "source": [
        "from sklearn.metrics import confusion_matrix #importing confusion matrix package from skikit learn\n",
        "confusion_matrix(y_test,y_pred) #implementing confusion matrix between tested and predicted data"
      ],
      "metadata": {
        "colab": {
          "base_uri": "https://localhost:8080/"
        },
        "id": "dgkYKOqYnRjZ",
        "outputId": "3b44ba6d-5083-4e78-beec-948c6052b21d"
      },
      "execution_count": 3,
      "outputs": [
        {
          "output_type": "execute_result",
          "data": {
            "text/plain": [
              "array([[0, 3],\n",
              "       [0, 1]])"
            ]
          },
          "metadata": {},
          "execution_count": 3
        }
      ]
    }
  ]
}